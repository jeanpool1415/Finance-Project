{
 "cells": [
  {
   "cell_type": "code",
   "execution_count": null,
   "metadata": {},
   "outputs": [],
   "source": [
    "import pandas as pd\n",
    "import numpy as np\n",
    "from ipca_classes_update import IPCA_v1"
   ]
  },
  {
   "cell_type": "code",
   "execution_count": null,
   "metadata": {},
   "outputs": [],
   "source": [
    "# === STEP 1: Load your dataset ===\n",
    "df = pd.read_csv('/teamspace/studios/this_studio/goup_project_sample_v3.csv', parse_dates=['date'])\n",
    "df = df.dropna()"
   ]
  },
  {
   "cell_type": "code",
   "execution_count": null,
   "metadata": {},
   "outputs": [],
   "source": [
    "# Optional: Keep only relevant columns\n",
    "non_factor_cols = ['date', 'permno', 'exret']\n",
    "factor_cols = [col for col in df.columns if col not in non_factor_cols]"
   ]
  },
  {
   "cell_type": "code",
   "execution_count": null,
   "metadata": {},
   "outputs": [],
   "source": [
    "# === STEP 2: Rank-normalize daily ===\n",
    "adj_data = pd.DataFrame()\n",
    "for date, group in df.groupby('date'):\n",
    "    g = group.copy()\n",
    "    for var in factor_cols:\n",
    "        g[var] = g[var].rank(method='dense') - 1\n",
    "        max_val = g[var].max()\n",
    "        g[var] = (g[var] / max_val - 0.5) if max_val > 0 else 0\n",
    "    adj_data = pd.concat([adj_data, g], ignore_index=True)"
   ]
  },
  {
   "cell_type": "code",
   "execution_count": null,
   "metadata": {},
   "outputs": [],
   "source": [
    "# === STEP 3: Format for IPCA ===\n",
    "adj_data = adj_data.sort_values(['date', 'permno'])\n",
    "adj_data = adj_data.set_index(['date', 'permno'])"
   ]
  },
  {
   "cell_type": "code",
   "execution_count": null,
   "metadata": {},
   "outputs": [],
   "source": [
    "# === STEP 4: Loop over K to select best via OOS R² ===\n",
    "best_k, best_r2 = None, float('-inf')\n",
    "r2_scores = {}\n",
    "K_range = range(5, 21)  # You can adjust this range\n",
    "\n",
    "print(\"Finding best K using out-of-sample R²...\")\n",
    "\n",
    "for K in K_range:\n",
    "    try:\n",
    "        ipca = IPCA_v1(adj_data, return_column='exret', add_constant=True)\n",
    "        results = ipca.fit(K=K, OOS=True, OOS_window='recursive', OOS_window_specs=120)\n",
    "\n",
    "        r2_oos = results['rfits']['R2_Pred']\n",
    "        r2_scores[K] = r2_oos\n",
    "\n",
    "        print(f\"K = {K}, R²_Pred = {r2_oos:.4f}\")\n",
    "\n",
    "        if r2_oos > best_r2:\n",
    "            best_k, best_r2 = K, r2_oos\n",
    "            best_results = results\n",
    "    except Exception as e:\n",
    "        print(f\"Failed at K = {K}: {e}\")\n",
    "\n",
    "print(f\"\\n✅ Best K: {best_k} with R²_Pred = {best_r2:.4f}\")"
   ]
  },
  {
   "cell_type": "code",
   "execution_count": null,
   "metadata": {},
   "outputs": [],
   "source": [
    "# === STEP 5: Save best latent factor predictions ===\n",
    "factors = best_results['rfits']['Fits_Pred'].dropna().reset_index()\n",
    "factors.to_csv('/teamspace/studios/this_studio/ipca_latent_factors.csv', index=False)\n",
    "print(\"Saved latent factors to: ipca_latent_factors.csv\")"
   ]
  }
 ],
 "metadata": {
  "kernelspec": {
   "display_name": "Python 3",
   "language": "python",
   "name": "python3"
  },
  "language_info": {
   "name": "python",
   "version": "3.12.5"
  }
 },
 "nbformat": 4,
 "nbformat_minor": 2
}
